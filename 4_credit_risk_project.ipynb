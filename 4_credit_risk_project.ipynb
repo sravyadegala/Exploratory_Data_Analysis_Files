{
 "cells": [
  {
   "cell_type": "code",
   "execution_count": 1,
   "id": "60ae2a32",
   "metadata": {},
   "outputs": [],
   "source": [
    "# Importing python libraries\n",
    "import numpy as np\n",
    "import pandas as pd\n",
    "from scipy import stats\n",
    "import matplotlib.pyplot as plt "
   ]
  },
  {
   "cell_type": "code",
   "execution_count": 2,
   "id": "1e719883",
   "metadata": {},
   "outputs": [
    {
     "data": {
      "text/html": [
       "<div>\n",
       "<style scoped>\n",
       "    .dataframe tbody tr th:only-of-type {\n",
       "        vertical-align: middle;\n",
       "    }\n",
       "\n",
       "    .dataframe tbody tr th {\n",
       "        vertical-align: top;\n",
       "    }\n",
       "\n",
       "    .dataframe thead th {\n",
       "        text-align: right;\n",
       "    }\n",
       "</style>\n",
       "<table border=\"1\" class=\"dataframe\">\n",
       "  <thead>\n",
       "    <tr style=\"text-align: right;\">\n",
       "      <th></th>\n",
       "      <th>person_age</th>\n",
       "      <th>person_income</th>\n",
       "      <th>person_home_ownership</th>\n",
       "      <th>person_emp_length</th>\n",
       "      <th>loan_intent</th>\n",
       "      <th>loan_grade</th>\n",
       "      <th>loan_amnt</th>\n",
       "      <th>loan_int_rate</th>\n",
       "      <th>loan_status</th>\n",
       "      <th>loan_percent_income</th>\n",
       "      <th>cb_person_default_on_file</th>\n",
       "      <th>cb_person_cred_hist_length</th>\n",
       "    </tr>\n",
       "  </thead>\n",
       "  <tbody>\n",
       "    <tr>\n",
       "      <th>0</th>\n",
       "      <td>22</td>\n",
       "      <td>59000</td>\n",
       "      <td>RENT</td>\n",
       "      <td>123.0</td>\n",
       "      <td>PERSONAL</td>\n",
       "      <td>D</td>\n",
       "      <td>35000</td>\n",
       "      <td>16.02</td>\n",
       "      <td>1</td>\n",
       "      <td>0.59</td>\n",
       "      <td>Y</td>\n",
       "      <td>3</td>\n",
       "    </tr>\n",
       "    <tr>\n",
       "      <th>1</th>\n",
       "      <td>21</td>\n",
       "      <td>9600</td>\n",
       "      <td>OWN</td>\n",
       "      <td>5.0</td>\n",
       "      <td>EDUCATION</td>\n",
       "      <td>B</td>\n",
       "      <td>1000</td>\n",
       "      <td>11.14</td>\n",
       "      <td>0</td>\n",
       "      <td>0.10</td>\n",
       "      <td>N</td>\n",
       "      <td>2</td>\n",
       "    </tr>\n",
       "    <tr>\n",
       "      <th>2</th>\n",
       "      <td>25</td>\n",
       "      <td>9600</td>\n",
       "      <td>MORTGAGE</td>\n",
       "      <td>1.0</td>\n",
       "      <td>MEDICAL</td>\n",
       "      <td>C</td>\n",
       "      <td>5500</td>\n",
       "      <td>12.87</td>\n",
       "      <td>1</td>\n",
       "      <td>0.57</td>\n",
       "      <td>N</td>\n",
       "      <td>3</td>\n",
       "    </tr>\n",
       "    <tr>\n",
       "      <th>3</th>\n",
       "      <td>23</td>\n",
       "      <td>65500</td>\n",
       "      <td>RENT</td>\n",
       "      <td>4.0</td>\n",
       "      <td>MEDICAL</td>\n",
       "      <td>C</td>\n",
       "      <td>35000</td>\n",
       "      <td>15.23</td>\n",
       "      <td>1</td>\n",
       "      <td>0.53</td>\n",
       "      <td>N</td>\n",
       "      <td>2</td>\n",
       "    </tr>\n",
       "    <tr>\n",
       "      <th>4</th>\n",
       "      <td>24</td>\n",
       "      <td>54400</td>\n",
       "      <td>RENT</td>\n",
       "      <td>8.0</td>\n",
       "      <td>MEDICAL</td>\n",
       "      <td>C</td>\n",
       "      <td>35000</td>\n",
       "      <td>14.27</td>\n",
       "      <td>1</td>\n",
       "      <td>0.55</td>\n",
       "      <td>Y</td>\n",
       "      <td>4</td>\n",
       "    </tr>\n",
       "  </tbody>\n",
       "</table>\n",
       "</div>"
      ],
      "text/plain": [
       "   person_age  person_income person_home_ownership  person_emp_length  \\\n",
       "0          22          59000                  RENT              123.0   \n",
       "1          21           9600                   OWN                5.0   \n",
       "2          25           9600              MORTGAGE                1.0   \n",
       "3          23          65500                  RENT                4.0   \n",
       "4          24          54400                  RENT                8.0   \n",
       "\n",
       "  loan_intent loan_grade  loan_amnt  loan_int_rate  loan_status  \\\n",
       "0    PERSONAL          D      35000          16.02            1   \n",
       "1   EDUCATION          B       1000          11.14            0   \n",
       "2     MEDICAL          C       5500          12.87            1   \n",
       "3     MEDICAL          C      35000          15.23            1   \n",
       "4     MEDICAL          C      35000          14.27            1   \n",
       "\n",
       "   loan_percent_income cb_person_default_on_file  cb_person_cred_hist_length  \n",
       "0                 0.59                         Y                           3  \n",
       "1                 0.10                         N                           2  \n",
       "2                 0.57                         N                           3  \n",
       "3                 0.53                         N                           2  \n",
       "4                 0.55                         Y                           4  "
      ]
     },
     "execution_count": 2,
     "metadata": {},
     "output_type": "execute_result"
    }
   ],
   "source": [
    "PATH = \"C://Users//NAVYA//Desktop//MY_PYTHON_PRACTICE//all_data_sets//credit_risk_dataset.csv\"\n",
    "df = pd.read_csv(PATH)\n",
    "df.head()"
   ]
  },
  {
   "cell_type": "code",
   "execution_count": 3,
   "id": "44b3c25c",
   "metadata": {},
   "outputs": [
    {
     "name": "stdout",
     "output_type": "stream",
     "text": [
      "<class 'pandas.core.frame.DataFrame'>\n"
     ]
    }
   ],
   "source": [
    "print(type(df))"
   ]
  },
  {
   "cell_type": "code",
   "execution_count": 4,
   "id": "e8aa47f8",
   "metadata": {},
   "outputs": [
    {
     "data": {
      "text/plain": [
       "Index(['person_age', 'person_income', 'person_home_ownership',\n",
       "       'person_emp_length', 'loan_intent', 'loan_grade', 'loan_amnt',\n",
       "       'loan_int_rate', 'loan_status', 'loan_percent_income',\n",
       "       'cb_person_default_on_file', 'cb_person_cred_hist_length'],\n",
       "      dtype='object')"
      ]
     },
     "execution_count": 4,
     "metadata": {},
     "output_type": "execute_result"
    }
   ],
   "source": [
    "# Columns in dataset\n",
    "df.columns"
   ]
  },
  {
   "cell_type": "code",
   "execution_count": 5,
   "id": "c5399881",
   "metadata": {},
   "outputs": [
    {
     "data": {
      "text/plain": [
       "(32581, 12)"
      ]
     },
     "execution_count": 5,
     "metadata": {},
     "output_type": "execute_result"
    }
   ],
   "source": [
    "# Getting Number of (rows,Columns)\n",
    "df.shape"
   ]
  },
  {
   "cell_type": "code",
   "execution_count": 6,
   "id": "f4f8faa1",
   "metadata": {},
   "outputs": [
    {
     "name": "stdout",
     "output_type": "stream",
     "text": [
      "<class 'pandas.core.frame.DataFrame'>\n",
      "RangeIndex: 32581 entries, 0 to 32580\n",
      "Data columns (total 12 columns):\n",
      " #   Column                      Non-Null Count  Dtype  \n",
      "---  ------                      --------------  -----  \n",
      " 0   person_age                  32581 non-null  int64  \n",
      " 1   person_income               32581 non-null  int64  \n",
      " 2   person_home_ownership       32581 non-null  object \n",
      " 3   person_emp_length           31686 non-null  float64\n",
      " 4   loan_intent                 32581 non-null  object \n",
      " 5   loan_grade                  32581 non-null  object \n",
      " 6   loan_amnt                   32581 non-null  int64  \n",
      " 7   loan_int_rate               29465 non-null  float64\n",
      " 8   loan_status                 32581 non-null  int64  \n",
      " 9   loan_percent_income         32581 non-null  float64\n",
      " 10  cb_person_default_on_file   32581 non-null  object \n",
      " 11  cb_person_cred_hist_length  32581 non-null  int64  \n",
      "dtypes: float64(3), int64(5), object(4)\n",
      "memory usage: 3.0+ MB\n"
     ]
    }
   ],
   "source": [
    "# Getting columns with their dtype\n",
    "df.info()"
   ]
  },
  {
   "cell_type": "markdown",
   "id": "13ddd18c",
   "metadata": {},
   "source": [
    "#### **Observation:**\n",
    "-- There are some missing values."
   ]
  },
  {
   "cell_type": "code",
   "execution_count": 7,
   "id": "83313d12",
   "metadata": {},
   "outputs": [
    {
     "data": {
      "text/plain": [
       "person_age                       0\n",
       "person_income                    0\n",
       "person_home_ownership            0\n",
       "person_emp_length              895\n",
       "loan_intent                      0\n",
       "loan_grade                       0\n",
       "loan_amnt                        0\n",
       "loan_int_rate                 3116\n",
       "loan_status                      0\n",
       "loan_percent_income              0\n",
       "cb_person_default_on_file        0\n",
       "cb_person_cred_hist_length       0\n",
       "dtype: int64"
      ]
     },
     "execution_count": 7,
     "metadata": {},
     "output_type": "execute_result"
    }
   ],
   "source": [
    "# Detecting Missing values\n",
    "df.isnull().sum()"
   ]
  },
  {
   "cell_type": "code",
   "execution_count": 9,
   "id": "5d3555d7",
   "metadata": {},
   "outputs": [
    {
     "data": {
      "text/plain": [
       "4.0"
      ]
     },
     "execution_count": 9,
     "metadata": {},
     "output_type": "execute_result"
    }
   ],
   "source": [
    "# Median of the Feature to treat the missing values\n",
    "df['person_emp_length'].median()"
   ]
  },
  {
   "cell_type": "code",
   "execution_count": 10,
   "id": "d7775948",
   "metadata": {},
   "outputs": [],
   "source": [
    "# Treatment of person_emp_length feature\n",
    "df['person_emp_length'] = df['person_emp_length'].replace(np.nan,df['person_emp_length'].median())"
   ]
  },
  {
   "cell_type": "code",
   "execution_count": 11,
   "id": "d1e31456",
   "metadata": {},
   "outputs": [
    {
     "data": {
      "text/plain": [
       "0"
      ]
     },
     "execution_count": 11,
     "metadata": {},
     "output_type": "execute_result"
    }
   ],
   "source": [
    "# After treatment of missing values\n",
    "df['person_emp_length'].isnull().sum()"
   ]
  },
  {
   "cell_type": "code",
   "execution_count": 12,
   "id": "dd7d0abb",
   "metadata": {},
   "outputs": [
    {
     "data": {
      "text/plain": [
       "10.99"
      ]
     },
     "execution_count": 12,
     "metadata": {},
     "output_type": "execute_result"
    }
   ],
   "source": [
    "# Median of the Feature to treat the missing values\n",
    "df['loan_int_rate'].median()"
   ]
  },
  {
   "cell_type": "code",
   "execution_count": 13,
   "id": "fa4b84a8",
   "metadata": {},
   "outputs": [],
   "source": [
    "# Treatment of person_emp_length feature\n",
    "df['loan_int_rate'] = df['loan_int_rate'].replace(np.nan,df['loan_int_rate'].median())"
   ]
  },
  {
   "cell_type": "code",
   "execution_count": 14,
   "id": "a959bf86",
   "metadata": {},
   "outputs": [
    {
     "data": {
      "text/plain": [
       "0"
      ]
     },
     "execution_count": 14,
     "metadata": {},
     "output_type": "execute_result"
    }
   ],
   "source": [
    "# After treatment of missing values\n",
    "df['loan_int_rate'].isnull().sum()"
   ]
  },
  {
   "cell_type": "code",
   "execution_count": 15,
   "id": "b6dced3f",
   "metadata": {},
   "outputs": [
    {
     "data": {
      "text/plain": [
       "person_age                    0\n",
       "person_income                 0\n",
       "person_home_ownership         0\n",
       "person_emp_length             0\n",
       "loan_intent                   0\n",
       "loan_grade                    0\n",
       "loan_amnt                     0\n",
       "loan_int_rate                 0\n",
       "loan_status                   0\n",
       "loan_percent_income           0\n",
       "cb_person_default_on_file     0\n",
       "cb_person_cred_hist_length    0\n",
       "dtype: int64"
      ]
     },
     "execution_count": 15,
     "metadata": {},
     "output_type": "execute_result"
    }
   ],
   "source": [
    "# After treatment checking missing values\n",
    "df.isnull().sum()"
   ]
  },
  {
   "cell_type": "markdown",
   "id": "1eaf2f7d",
   "metadata": {},
   "source": [
    "# **Exploratory Data Analysis**"
   ]
  },
  {
   "cell_type": "markdown",
   "id": "e46493c8",
   "metadata": {},
   "source": [
    "# Univariate Analysis\n",
    "\n",
    "**Non-Viz**  \n",
    "Min  \n",
    "Max  \n",
    "Central tendency  \n",
    "Dispersion  \n",
    "\n",
    "**Viz**  \n",
    "plot of Distribution - Distribution  \n",
    "plot of BoxPlot - Outliers  "
   ]
  },
  {
   "cell_type": "markdown",
   "id": "e7149d89",
   "metadata": {},
   "source": [
    "## Analysing person_age Feature - Numerical"
   ]
  },
  {
   "cell_type": "code",
   "execution_count": 16,
   "id": "a4a22846",
   "metadata": {},
   "outputs": [
    {
     "name": "stdout",
     "output_type": "stream",
     "text": [
      "person_age_min: 20\n",
      "person_age_max: 144\n",
      "person_age_mean: 27.73459992019889\n",
      "person_age_median: 26.0\n",
      "person_age_std: 6.3480784192252475\n"
     ]
    }
   ],
   "source": [
    "# Non-visualization statistical analysis\n",
    "print('person_age_min:',df['person_age'].min())\n",
    "print('person_age_max:',df['person_age'].max())\n",
    "print('person_age_mean:',df['person_age'].mean())\n",
    "print('person_age_median:',df['person_age'].median())\n",
    "print('person_age_std:',df['person_age'].std())"
   ]
  },
  {
   "cell_type": "code",
   "execution_count": 87,
   "id": "f051628a",
   "metadata": {},
   "outputs": [
    {
     "data": {
      "text/plain": [
       "<AxesSubplot:>"
      ]
     },
     "execution_count": 87,
     "metadata": {},
     "output_type": "execute_result"
    },
    {
     "data": {
      "image/png": "[encoded data removed]",
      "text/plain": [
       "<Figure size 432x288 with 1 Axes>"
      ]
     },
     "metadata": {
      "needs_background": "light"
     },
     "output_type": "display_data"
    }
   ],
   "source": [
    "# Detecting outliers using boxplot\n",
    "df['person_age'].plot(kind = 'box')"
   ]
  },
  {
   "cell_type": "markdown",
   "id": "4337149f",
   "metadata": {},
   "source": [
    "#### **Observation:**\n",
    "-- In person_age, More people are in between the range of 20 - 40  and some people are in the range of 40 - 100 who can be under old age . and also two values are too long it may or may not be correct entries."
   ]
  },
  {
   "cell_type": "code",
   "execution_count": 19,
   "id": "f220ddc1",
   "metadata": {},
   "outputs": [
    {
     "data": {
      "text/plain": [
       "<AxesSubplot:ylabel='Density'>"
      ]
     },
     "execution_count": 19,
     "metadata": {},
     "output_type": "execute_result"
    },
    {
     "data": {
      "image/png": "[encoded data removed]",
      "text/plain": [
       "<Figure size 432x288 with 1 Axes>"
      ]
     },
     "metadata": {
      "needs_background": "light"
     },
     "output_type": "display_data"
    }
   ],
   "source": [
    "# Distribution Of person_age Feature using kde plot\n",
    "df['person_age'].plot(kind = 'kde')"
   ]
  },
  {
   "cell_type": "markdown",
   "id": "ed0e5e30",
   "metadata": {},
   "source": [
    "#### **Observation:**\n",
    "-- The distribution of person_age feature looks like it follows normal distribution."
   ]
  },
  {
   "cell_type": "code",
   "execution_count": 20,
   "id": "5ec29da4",
   "metadata": {},
   "outputs": [
    {
     "data": {
      "image/png": "[encoded data removed]",
      "text/plain": [
       "<Figure size 432x288 with 1 Axes>"
      ]
     },
     "metadata": {
      "needs_background": "light"
     },
     "output_type": "display_data"
    }
   ],
   "source": [
    "# Checking normal distribution for df using QQ plot\n",
    "stats.probplot(df['person_age'],dist='norm',plot=plt)\n",
    "\n",
    "plt.grid()"
   ]
  },
  {
   "cell_type": "markdown",
   "id": "261eb7ce",
   "metadata": {},
   "source": [
    "#### **Observation:**\n",
    "-- By above plot,It is clear that the person_age feature doesn't follow Normal Distribution."
   ]
  },
  {
   "cell_type": "markdown",
   "id": "eec331a6",
   "metadata": {},
   "source": [
    "## Analysing person_income Feature - Numerical"
   ]
  },
  {
   "cell_type": "code",
   "execution_count": 21,
   "id": "41a913cd",
   "metadata": {},
   "outputs": [
    {
     "name": "stdout",
     "output_type": "stream",
     "text": [
      "person_income_min: 4000\n",
      "person_income_max: 6000000\n",
      "person_income_mean: 66074.84846996715\n",
      "person_income_median: 55000.0\n",
      "person_income_std: 61983.119168159064\n"
     ]
    }
   ],
   "source": [
    "# Non-visualization statistical analysis\n",
    "print('person_income_min:',df['person_income'].min())\n",
    "print('person_income_max:',df['person_income'].max())\n",
    "print('person_income_mean:',df['person_income'].mean())\n",
    "print('person_income_median:',df['person_income'].median())\n",
    "print('person_income_std:',df['person_income'].std())"
   ]
  },
  {
   "cell_type": "code",
   "execution_count": 91,
   "id": "63b4ec56",
   "metadata": {},
   "outputs": [
    {
     "data": {
      "text/plain": [
       "<AxesSubplot:>"
      ]
     },
     "execution_count": 91,
     "metadata": {},
     "output_type": "execute_result"
    },
    {
     "data": {
      "image/png": "[encoded data removed]",
      "text/plain": [
       "<Figure size 432x288 with 1 Axes>"
      ]
     },
     "metadata": {
      "needs_background": "light"
     },
     "output_type": "display_data"
    }
   ],
   "source": [
    "# Detecting outliers using boxplot\n",
    "df['person_income'].plot(kind = 'box')"
   ]
  },
  {
   "cell_type": "markdown",
   "id": "475b06a3",
   "metadata": {},
   "source": [
    "#### **Observation:**\n",
    "-- Most of the peoples income is below 1,00,000 and some are in the range of 1,00,000 to 2,00,000 and only 1 person has income near to 60,00,000."
   ]
  },
  {
   "cell_type": "code",
   "execution_count": 90,
   "id": "ebdf64f3",
   "metadata": {},
   "outputs": [
    {
     "data": {
      "text/plain": [
       "<AxesSubplot:ylabel='Density'>"
      ]
     },
     "execution_count": 90,
     "metadata": {},
     "output_type": "execute_result"
    },
    {
     "data": {
      "image/png": "[encoded data removed]",
      "text/plain": [
       "<Figure size 432x288 with 1 Axes>"
      ]
     },
     "metadata": {
      "needs_background": "light"
     },
     "output_type": "display_data"
    }
   ],
   "source": [
    "# Distribution Of person_age Feature using kde plot\n",
    "df['person_income'].plot(kind = 'kde')"
   ]
  },
  {
   "cell_type": "markdown",
   "id": "0ad8de74",
   "metadata": {},
   "source": [
    "#### **Observation:**\n",
    "-- It looks like person_income feature follows Normal Distribution.But,it may or may not follows."
   ]
  },
  {
   "cell_type": "code",
   "execution_count": 24,
   "id": "7b58b96a",
   "metadata": {},
   "outputs": [
    {
     "data": {
      "image/png": "[encoded data removed]",
      "text/plain": [
       "<Figure size 432x288 with 1 Axes>"
      ]
     },
     "metadata": {
      "needs_background": "light"
     },
     "output_type": "display_data"
    }
   ],
   "source": [
    "# Checking normal distribution for df using QQ plot\n",
    "stats.probplot(df['person_income'],dist='norm',plot=plt)\n",
    "\n",
    "plt.grid()"
   ]
  },
  {
   "cell_type": "markdown",
   "id": "596b5714",
   "metadata": {},
   "source": [
    "#### **Observation:**\n",
    "-- By above plot,it is clear that person_income doesn't follow Normal Distribution."
   ]
  },
  {
   "cell_type": "markdown",
   "id": "1191ee99",
   "metadata": {},
   "source": [
    "## Analysing person_home_ownership  Feature - Categorical"
   ]
  },
  {
   "cell_type": "code",
   "execution_count": 26,
   "id": "4f8d1651",
   "metadata": {},
   "outputs": [
    {
     "data": {
      "text/plain": [
       "RENT        16446\n",
       "MORTGAGE    13444\n",
       "OWN          2584\n",
       "OTHER         107\n",
       "Name: person_home_ownership, dtype: int64"
      ]
     },
     "execution_count": 26,
     "metadata": {},
     "output_type": "execute_result"
    }
   ],
   "source": [
    "# getting value_counts()\n",
    "df['person_home_ownership'].value_counts()"
   ]
  },
  {
   "cell_type": "code",
   "execution_count": 27,
   "id": "573769c9",
   "metadata": {},
   "outputs": [
    {
     "data": {
      "text/plain": [
       "RENT        0.504773\n",
       "MORTGAGE    0.412633\n",
       "OWN         0.079310\n",
       "OTHER       0.003284\n",
       "Name: person_home_ownership, dtype: float64"
      ]
     },
     "execution_count": 27,
     "metadata": {},
     "output_type": "execute_result"
    }
   ],
   "source": [
    "# getting value_counts() with normalization\n",
    "df['person_home_ownership'].value_counts(normalize= True)"
   ]
  },
  {
   "cell_type": "code",
   "execution_count": 28,
   "id": "8c5fb2bb",
   "metadata": {},
   "outputs": [
    {
     "data": {
      "text/plain": [
       "<AxesSubplot:>"
      ]
     },
     "execution_count": 28,
     "metadata": {},
     "output_type": "execute_result"
    },
    {
     "data": {
      "image/png": "[encoded data removed]",
      "text/plain": [
       "<Figure size 432x288 with 1 Axes>"
      ]
     },
     "metadata": {
      "needs_background": "light"
     },
     "output_type": "display_data"
    }
   ],
   "source": [
    "# Plotting barplot for partner feature\n",
    "df['person_home_ownership'].value_counts().plot(kind = 'bar')"
   ]
  },
  {
   "cell_type": "markdown",
   "id": "bbaa8c4c",
   "metadata": {},
   "source": [
    "#### **Observation:**\n",
    "-- In  person_home_ownership feature Most of the people are being in rented houses.Only few are having their own houses."
   ]
  },
  {
   "cell_type": "markdown",
   "id": "3a6e388c",
   "metadata": {},
   "source": [
    "## Analysing person_emp_length Feature - Numerical"
   ]
  },
  {
   "cell_type": "code",
   "execution_count": 30,
   "id": "30053aa1",
   "metadata": {},
   "outputs": [
    {
     "name": "stdout",
     "output_type": "stream",
     "text": [
      "person_emp_length_min: 0.0\n",
      "person_emp_length_max: 123.0\n",
      "person_emp_length_mean: 4.767993615911114\n",
      "person_emp_length_median: 4.0\n",
      "person_emp_length_std: 4.087371678206524\n"
     ]
    }
   ],
   "source": [
    "# Non-visualization statistical analysis\n",
    "print('person_emp_length_min:',df['person_emp_length'].min())\n",
    "print('person_emp_length_max:',df['person_emp_length'].max())\n",
    "print('person_emp_length_mean:',df['person_emp_length'].mean())\n",
    "print('person_emp_length_median:',df['person_emp_length'].median())\n",
    "print('person_emp_length_std:',df['person_emp_length'].std())"
   ]
  },
  {
   "cell_type": "code",
   "execution_count": 31,
   "id": "3a79d760",
   "metadata": {},
   "outputs": [
    {
     "data": {
      "text/plain": [
       "<AxesSubplot:>"
      ]
     },
     "execution_count": 31,
     "metadata": {},
     "output_type": "execute_result"
    },
    {
     "data": {
      "image/png": "[encoded data removed]",
      "text/plain": [
       "<Figure size 432x288 with 1 Axes>"
      ]
     },
     "metadata": {
      "needs_background": "light"
     },
     "output_type": "display_data"
    }
   ],
   "source": [
    "# Detecting the outliers using boxplot\n",
    "df['person_emp_length'].plot(kind = 'box')"
   ]
  },
  {
   "cell_type": "markdown",
   "id": "ff06fd1e",
   "metadata": {},
   "source": [
    "#### **Observation:**\n",
    "-- Most of the peoples employement length is under 20 years.So,there may be a chance to get approval for their loans."
   ]
  },
  {
   "cell_type": "code",
   "execution_count": 32,
   "id": "f40c2414",
   "metadata": {},
   "outputs": [
    {
     "data": {
      "text/plain": [
       "<AxesSubplot:ylabel='Density'>"
      ]
     },
     "execution_count": 32,
     "metadata": {},
     "output_type": "execute_result"
    },
    {
     "data": {
      "image/png": "[encoded data removed]",
      "text/plain": [
       "<Figure size 432x288 with 1 Axes>"
      ]
     },
     "metadata": {
      "needs_background": "light"
     },
     "output_type": "display_data"
    }
   ],
   "source": [
    "# Distribution Of person_emp_length Feature using kde plot\n",
    "df['person_emp_length'].plot(kind = 'kde')"
   ]
  },
  {
   "cell_type": "markdown",
   "id": "4471d585",
   "metadata": {},
   "source": [
    "#### Obseravtion:**\n",
    "-- It looks like person_emp_length feature follows Normal Distribution.But,it may or may not follows."
   ]
  },
  {
   "cell_type": "code",
   "execution_count": 33,
   "id": "397e951f",
   "metadata": {},
   "outputs": [
    {
     "data": {
      "image/png": "[encoded data removed]",
      "text/plain": [
       "<Figure size 432x288 with 1 Axes>"
      ]
     },
     "metadata": {
      "needs_background": "light"
     },
     "output_type": "display_data"
    }
   ],
   "source": [
    "# checking for normal distribution using QQ-plot\n",
    "stats.probplot(df['person_emp_length'],dist='norm',plot=plt)\n",
    "\n",
    "plt.grid()"
   ]
  },
  {
   "cell_type": "markdown",
   "id": "c0682d1d",
   "metadata": {},
   "source": [
    "#### **Observation:**\n",
    "-- By above plot,it is clear that person_income doesn't follow Normal Distribution."
   ]
  },
  {
   "cell_type": "markdown",
   "id": "6c8e24ca",
   "metadata": {},
   "source": [
    "## Analysing loan_intent  Feature - Categorical"
   ]
  },
  {
   "cell_type": "code",
   "execution_count": 35,
   "id": "245f4894",
   "metadata": {},
   "outputs": [
    {
     "data": {
      "text/plain": [
       "EDUCATION            6453\n",
       "MEDICAL              6071\n",
       "VENTURE              5719\n",
       "PERSONAL             5521\n",
       "DEBTCONSOLIDATION    5212\n",
       "HOMEIMPROVEMENT      3605\n",
       "Name: loan_intent, dtype: int64"
      ]
     },
     "execution_count": 35,
     "metadata": {},
     "output_type": "execute_result"
    }
   ],
   "source": [
    "# getting value_counts()\n",
    "df['loan_intent'].value_counts()"
   ]
  },
  {
   "cell_type": "code",
   "execution_count": 36,
   "id": "3b1e6b2c",
   "metadata": {},
   "outputs": [
    {
     "data": {
      "text/plain": [
       "EDUCATION            0.198060\n",
       "MEDICAL              0.186336\n",
       "VENTURE              0.175532\n",
       "PERSONAL             0.169455\n",
       "DEBTCONSOLIDATION    0.159971\n",
       "HOMEIMPROVEMENT      0.110647\n",
       "Name: loan_intent, dtype: float64"
      ]
     },
     "execution_count": 36,
     "metadata": {},
     "output_type": "execute_result"
    }
   ],
   "source": [
    "# getting value_counts() by normalization\n",
    "df['loan_intent'].value_counts(normalize = True)"
   ]
  },
  {
   "cell_type": "code",
   "execution_count": 37,
   "id": "d0194868",
   "metadata": {},
   "outputs": [
    {
     "data": {
      "text/plain": [
       "<AxesSubplot:>"
      ]
     },
     "execution_count": 37,
     "metadata": {},
     "output_type": "execute_result"
    },
    {
     "data": {
      "image/png": "[encoded data removed]",
      "text/plain": [
       "<Figure size 432x288 with 1 Axes>"
      ]
     },
     "metadata": {
      "needs_background": "light"
     },
     "output_type": "display_data"
    }
   ],
   "source": [
    "# Plotting barplot for Gender feature\n",
    "df['loan_intent'].value_counts().plot(kind = 'bar')"
   ]
  },
  {
   "cell_type": "markdown",
   "id": "8b909517",
   "metadata": {},
   "source": [
    "#### **Observation:**\n",
    "-- By seeing the above barplot it is shown their qualification.There are more number of persons under Education. and under home improvement there are only few compared to others."
   ]
  },
  {
   "cell_type": "markdown",
   "id": "156727bf",
   "metadata": {},
   "source": [
    "## Analysing loan_grade  Feature - Categorical"
   ]
  },
  {
   "cell_type": "code",
   "execution_count": 38,
   "id": "77c366d7",
   "metadata": {},
   "outputs": [
    {
     "data": {
      "text/plain": [
       "A    10777\n",
       "B    10451\n",
       "C     6458\n",
       "D     3626\n",
       "E      964\n",
       "F      241\n",
       "G       64\n",
       "Name: loan_grade, dtype: int64"
      ]
     },
     "execution_count": 38,
     "metadata": {},
     "output_type": "execute_result"
    }
   ],
   "source": [
    "# getting value_counts()\n",
    "df['loan_grade'].value_counts()"
   ]
  },
  {
   "cell_type": "code",
   "execution_count": 39,
   "id": "49e29e5a",
   "metadata": {},
   "outputs": [
    {
     "data": {
      "text/plain": [
       "A    0.330776\n",
       "B    0.320770\n",
       "C    0.198214\n",
       "D    0.111292\n",
       "E    0.029588\n",
       "F    0.007397\n",
       "G    0.001964\n",
       "Name: loan_grade, dtype: float64"
      ]
     },
     "execution_count": 39,
     "metadata": {},
     "output_type": "execute_result"
    }
   ],
   "source": [
    "# getting value_counts() by normalization\n",
    "df['loan_grade'].value_counts(normalize = True)"
   ]
  },
  {
   "cell_type": "code",
   "execution_count": 40,
   "id": "47c21728",
   "metadata": {},
   "outputs": [
    {
     "data": {
      "text/plain": [
       "<AxesSubplot:>"
      ]
     },
     "execution_count": 40,
     "metadata": {},
     "output_type": "execute_result"
    },
    {
     "data": {
      "image/png": "[encoded data removed]",
      "text/plain": [
       "<Figure size 432x288 with 1 Axes>"
      ]
     },
     "metadata": {
      "needs_background": "light"
     },
     "output_type": "display_data"
    }
   ],
   "source": [
    "# Plotting barplot for Gender feature\n",
    "df['loan_grade'].value_counts().plot(kind = 'bar')"
   ]
  },
  {
   "cell_type": "markdown",
   "id": "1fba4900",
   "metadata": {},
   "source": [
    "#### **Observation:**\n",
    "-- There are more no of persons under A - Grade and only few are under G-grade.So,who have G-grade has only less chance of getting approval of their loan."
   ]
  },
  {
   "cell_type": "markdown",
   "id": "029795c5",
   "metadata": {},
   "source": [
    "## Analysing loan_amnt Feature - Numerical"
   ]
  },
  {
   "cell_type": "code",
   "execution_count": 42,
   "id": "ac99adc1",
   "metadata": {},
   "outputs": [
    {
     "name": "stdout",
     "output_type": "stream",
     "text": [
      "loan_amnt_min: 500\n",
      "loan_amnt_max: 35000\n",
      "loan_amnt_mean: 9589.371105859243\n",
      "loan_amnt_median: 8000.0\n",
      "loan_amnt_std: 6322.086645792174\n"
     ]
    }
   ],
   "source": [
    "# Non-visualization statistical analysis\n",
    "print('loan_amnt_min:',df['loan_amnt'].min())\n",
    "print('loan_amnt_max:',df['loan_amnt'].max())\n",
    "print('loan_amnt_mean:',df['loan_amnt'].mean())\n",
    "print('loan_amnt_median:',df['loan_amnt'].median())\n",
    "print('loan_amnt_std:',df['loan_amnt'].std())"
   ]
  },
  {
   "cell_type": "code",
   "execution_count": 43,
   "id": "a339432f",
   "metadata": {},
   "outputs": [
    {
     "data": {
      "text/plain": [
       "10000    2664\n",
       "5000     2043\n",
       "12000    1809\n",
       "6000     1801\n",
       "15000    1502\n",
       "         ... \n",
       "27300       1\n",
       "17325       1\n",
       "9625        1\n",
       "4525        1\n",
       "29850       1\n",
       "Name: loan_amnt, Length: 753, dtype: int64"
      ]
     },
     "execution_count": 43,
     "metadata": {},
     "output_type": "execute_result"
    }
   ],
   "source": [
    "# Calculating No of  loan_amnt\n",
    "df['loan_amnt'].value_counts()"
   ]
  },
  {
   "cell_type": "code",
   "execution_count": 44,
   "id": "20398404",
   "metadata": {},
   "outputs": [
    {
     "data": {
      "text/plain": [
       "10000    0.081765\n",
       "5000     0.062705\n",
       "12000    0.055523\n",
       "6000     0.055278\n",
       "15000    0.046100\n",
       "           ...   \n",
       "27300    0.000031\n",
       "17325    0.000031\n",
       "9625     0.000031\n",
       "4525     0.000031\n",
       "29850    0.000031\n",
       "Name: loan_amnt, Length: 753, dtype: float64"
      ]
     },
     "execution_count": 44,
     "metadata": {},
     "output_type": "execute_result"
    }
   ],
   "source": [
    "# Normalization of loan_amnt feature\n",
    "df['loan_amnt'].value_counts(normalize= True)"
   ]
  },
  {
   "cell_type": "code",
   "execution_count": 45,
   "id": "76e047c4",
   "metadata": {},
   "outputs": [
    {
     "data": {
      "text/plain": [
       "<AxesSubplot:>"
      ]
     },
     "execution_count": 45,
     "metadata": {},
     "output_type": "execute_result"
    },
    {
     "data": {
      "image/png": "[encoded data removed]",
      "text/plain": [
       "<Figure size 432x288 with 1 Axes>"
      ]
     },
     "metadata": {
      "needs_background": "light"
     },
     "output_type": "display_data"
    }
   ],
   "source": [
    "# Detecting outliers using boxplot\n",
    "df['loan_amnt'].plot(kind = 'box')"
   ]
  },
  {
   "cell_type": "markdown",
   "id": "d5d21708",
   "metadata": {},
   "source": [
    "#### **Observation:**\n",
    "-- There are more people having loan amount in the range of 0 - 20,000 and beyond 25000 there are people who lies under outliers.As there are more outliers data will be effected even though we treat them."
   ]
  },
  {
   "cell_type": "code",
   "execution_count": 46,
   "id": "36b72d2f",
   "metadata": {},
   "outputs": [
    {
     "data": {
      "text/plain": [
       "<AxesSubplot:ylabel='Density'>"
      ]
     },
     "execution_count": 46,
     "metadata": {},
     "output_type": "execute_result"
    },
    {
     "data": {
      "image/png": "[encoded data removed]",
      "text/plain": [
       "<Figure size 432x288 with 1 Axes>"
      ]
     },
     "metadata": {
      "needs_background": "light"
     },
     "output_type": "display_data"
    }
   ],
   "source": [
    "# Distribution Of loan_amnt Feature using kde plot\n",
    "df['loan_amnt'].plot(kind = 'kde')"
   ]
  },
  {
   "cell_type": "markdown",
   "id": "dfe0cc12",
   "metadata": {},
   "source": [
    "#### **Observation:**\n",
    "-- By above plot,it seems like follows normal distribution.But,it may or may not follow normal distribution."
   ]
  },
  {
   "cell_type": "code",
   "execution_count": 47,
   "id": "0b948b2f",
   "metadata": {},
   "outputs": [
    {
     "data": {
      "image/png": "[encoded data removed]",
      "text/plain": [
       "<Figure size 432x288 with 1 Axes>"
      ]
     },
     "metadata": {
      "needs_background": "light"
     },
     "output_type": "display_data"
    }
   ],
   "source": [
    "# Checking normal distribution for df using QQ plot\n",
    "stats.probplot(df['loan_amnt'],dist='norm',plot=plt)\n",
    "\n",
    "plt.grid()"
   ]
  },
  {
   "cell_type": "markdown",
   "id": "97f860fb",
   "metadata": {},
   "source": [
    "#### **Observation:**\n",
    "-- By above plot,it is clear that loan_amnt feature doesn't follow normal distribution."
   ]
  },
  {
   "cell_type": "markdown",
   "id": "903cd67f",
   "metadata": {},
   "source": [
    "## Analysing loan_int_rate Feature - Numerical"
   ]
  },
  {
   "cell_type": "code",
   "execution_count": 49,
   "id": "d9c0b4a1",
   "metadata": {},
   "outputs": [
    {
     "name": "stdout",
     "output_type": "stream",
     "text": [
      "loan_int_rate_min: 5.42\n",
      "loan_int_rate_max: 23.22\n",
      "loan_int_rate_mean: 11.009620023939183\n",
      "loan_int_rate_median: 10.99\n",
      "loan_int_rate_std: 3.0816111515930578\n"
     ]
    }
   ],
   "source": [
    "# Non-visualization statistical analysis\n",
    "print('loan_int_rate_min:',df['loan_int_rate'].min())\n",
    "print('loan_int_rate_max:',df['loan_int_rate'].max())\n",
    "print('loan_int_rate_mean:',df['loan_int_rate'].mean())\n",
    "print('loan_int_rate_median:',df['loan_int_rate'].median())\n",
    "print('loan_int_rate_std:',df['loan_int_rate'].std())"
   ]
  },
  {
   "cell_type": "code",
   "execution_count": 50,
   "id": "8d79e9d7",
   "metadata": {},
   "outputs": [
    {
     "data": {
      "text/plain": [
       "<AxesSubplot:>"
      ]
     },
     "execution_count": 50,
     "metadata": {},
     "output_type": "execute_result"
    },
    {
     "data": {
      "image/png": "[encoded data removed]",
      "text/plain": [
       "<Figure size 432x288 with 1 Axes>"
      ]
     },
     "metadata": {
      "needs_background": "light"
     },
     "output_type": "display_data"
    }
   ],
   "source": [
    "# Detecting outliers using boxplot\n",
    "df['loan_int_rate'].plot(kind = 'box')"
   ]
  },
  {
   "cell_type": "markdown",
   "id": "3125c361",
   "metadata": {},
   "source": [
    "#### **Observation:**\n",
    "-- Most of the peoples interest rate is between 5.0 to 20.0 and there are some persons beyond 20.0 which lies under outliers."
   ]
  },
  {
   "cell_type": "code",
   "execution_count": 51,
   "id": "0722033f",
   "metadata": {},
   "outputs": [
    {
     "data": {
      "text/plain": [
       "<AxesSubplot:ylabel='Density'>"
      ]
     },
     "execution_count": 51,
     "metadata": {},
     "output_type": "execute_result"
    },
    {
     "data": {
      "image/png": "[encoded data removed]",
      "text/plain": [
       "<Figure size 432x288 with 1 Axes>"
      ]
     },
     "metadata": {
      "needs_background": "light"
     },
     "output_type": "display_data"
    }
   ],
   "source": [
    "# Distribution Of loan_amnt Feature using kde plot\n",
    "df['loan_int_rate'].plot(kind = 'kde')"
   ]
  },
  {
   "cell_type": "markdown",
   "id": "2442dc3b",
   "metadata": {},
   "source": [
    "#### **Observation:**\n",
    "-- By above plot, the interest rate feature follows Normal Distribution."
   ]
  },
  {
   "cell_type": "code",
   "execution_count": 52,
   "id": "7645b460",
   "metadata": {},
   "outputs": [
    {
     "data": {
      "image/png": "[encoded data removed]",
      "text/plain": [
       "<Figure size 432x288 with 1 Axes>"
      ]
     },
     "metadata": {
      "needs_background": "light"
     },
     "output_type": "display_data"
    }
   ],
   "source": [
    "# Checking normal distribution for df using QQ plot\n",
    "stats.probplot(df['loan_int_rate'],dist='norm',plot=plt)\n",
    "\n",
    "plt.grid()"
   ]
  },
  {
   "cell_type": "markdown",
   "id": "3a17b6a0",
   "metadata": {},
   "source": [
    "#### **Observation:**\n",
    "-- By above QQ plot, it is clear that interest rate feature doesn't follow Normal Distribution."
   ]
  },
  {
   "cell_type": "markdown",
   "id": "4dfdfb1f",
   "metadata": {},
   "source": [
    "## Analysing loan_status Feature - Numerical"
   ]
  },
  {
   "cell_type": "code",
   "execution_count": 54,
   "id": "0e1c3f85",
   "metadata": {},
   "outputs": [
    {
     "name": "stdout",
     "output_type": "stream",
     "text": [
      "loan_status_min: 0\n",
      "loan_status_max: 1\n",
      "loan_status_mean: 0.21816396059052823\n",
      "loan_status_median: 0.0\n",
      "loan_status_std: 0.4130056685601785\n"
     ]
    }
   ],
   "source": [
    "# Non-visualization statistical analysis\n",
    "print('loan_status_min:',df['loan_status'].min())\n",
    "print('loan_status_max:',df['loan_status'].max())\n",
    "print('loan_status_mean:',df['loan_status'].mean())\n",
    "print('loan_status_median:',df['loan_status'].median())\n",
    "print('loan_status_std:',df['loan_status'].std())"
   ]
  },
  {
   "cell_type": "code",
   "execution_count": 55,
   "id": "3fa8d300",
   "metadata": {},
   "outputs": [
    {
     "data": {
      "text/plain": [
       "0    25473\n",
       "1     7108\n",
       "Name: loan_status, dtype: int64"
      ]
     },
     "execution_count": 55,
     "metadata": {},
     "output_type": "execute_result"
    }
   ],
   "source": [
    "# Calculating No of  loan_status\n",
    "df['loan_status'].value_counts()"
   ]
  },
  {
   "cell_type": "code",
   "execution_count": 56,
   "id": "229404cf",
   "metadata": {},
   "outputs": [
    {
     "data": {
      "text/plain": [
       "0    0.781836\n",
       "1    0.218164\n",
       "Name: loan_status, dtype: float64"
      ]
     },
     "execution_count": 56,
     "metadata": {},
     "output_type": "execute_result"
    }
   ],
   "source": [
    "# Normalization of  loan_status feature\n",
    "df['loan_status'].value_counts(normalize= True)"
   ]
  },
  {
   "cell_type": "code",
   "execution_count": 57,
   "id": "b25aa73e",
   "metadata": {},
   "outputs": [
    {
     "data": {
      "text/plain": [
       "<AxesSubplot:>"
      ]
     },
     "execution_count": 57,
     "metadata": {},
     "output_type": "execute_result"
    },
    {
     "data": {
      "image/png": "[encoded data removed]",
      "text/plain": [
       "<Figure size 432x288 with 1 Axes>"
      ]
     },
     "metadata": {
      "needs_background": "light"
     },
     "output_type": "display_data"
    }
   ],
   "source": [
    "# Detecting outliers using boxplot\n",
    "df['loan_status'].value_counts(normalize= True).plot(kind = 'box')"
   ]
  },
  {
   "cell_type": "markdown",
   "id": "9d6a60b2",
   "metadata": {},
   "source": [
    "#### **Observation:**\n",
    "-- By above plot,The persons loan_status is in the range."
   ]
  },
  {
   "cell_type": "code",
   "execution_count": 58,
   "id": "cf2545fd",
   "metadata": {},
   "outputs": [
    {
     "data": {
      "text/plain": [
       "<AxesSubplot:ylabel='Density'>"
      ]
     },
     "execution_count": 58,
     "metadata": {},
     "output_type": "execute_result"
    },
    {
     "data": {
      "image/png": "[encoded data removed]",
      "text/plain": [
       "<Figure size 432x288 with 1 Axes>"
      ]
     },
     "metadata": {
      "needs_background": "light"
     },
     "output_type": "display_data"
    }
   ],
   "source": [
    "# Distribution Of loan_amnt Feature using kde plot\n",
    "df['loan_status'].plot(kind = 'kde')"
   ]
  },
  {
   "cell_type": "markdown",
   "id": "94edd06c",
   "metadata": {},
   "source": [
    "#### **Observation:**\n",
    "-- By above plot, the loan_status feature follows Normal Distribution with some disperencies."
   ]
  },
  {
   "cell_type": "code",
   "execution_count": 59,
   "id": "46e3997b",
   "metadata": {},
   "outputs": [
    {
     "data": {
      "image/png": "[encoded data removed]",
      "text/plain": [
       "<Figure size 432x288 with 1 Axes>"
      ]
     },
     "metadata": {
      "needs_background": "light"
     },
     "output_type": "display_data"
    }
   ],
   "source": [
    "# Checking normal distribution for df using QQ plot\n",
    "stats.probplot(df['loan_status'],dist='norm',plot=plt)\n",
    "\n",
    "plt.grid()"
   ]
  },
  {
   "cell_type": "markdown",
   "id": "474b4ea0",
   "metadata": {},
   "source": [
    "#### **Observation:**\n",
    "-- By above plot,it is clear that Loan_status feature doesn't follows Normal Distribution."
   ]
  },
  {
   "cell_type": "markdown",
   "id": "d01e60da",
   "metadata": {},
   "source": [
    "## Analysing loan_percent_income Feature - Numerical"
   ]
  },
  {
   "cell_type": "code",
   "execution_count": 61,
   "id": "0e69768d",
   "metadata": {},
   "outputs": [
    {
     "name": "stdout",
     "output_type": "stream",
     "text": [
      "loan_percent_income_min: 0.0\n",
      "loan_percent_income_max: 0.83\n",
      "loan_percent_income_mean: 0.17020349283325145\n",
      "loan_percent_income_median: 0.15\n",
      "loan_percent_income_std: 0.10678175634492885\n"
     ]
    }
   ],
   "source": [
    "# Non-visualization statistical analysis\n",
    "print('loan_percent_income_min:',df['loan_percent_income'].min())\n",
    "print('loan_percent_income_max:',df['loan_percent_income'].max())\n",
    "print('loan_percent_income_mean:',df['loan_percent_income'].mean())\n",
    "print('loan_percent_income_median:',df['loan_percent_income'].median())\n",
    "print('loan_percent_income_std:',df['loan_percent_income'].std())"
   ]
  },
  {
   "cell_type": "code",
   "execution_count": 62,
   "id": "f89d8c0d",
   "metadata": {},
   "outputs": [
    {
     "data": {
      "text/plain": [
       "<AxesSubplot:>"
      ]
     },
     "execution_count": 62,
     "metadata": {},
     "output_type": "execute_result"
    },
    {
     "data": {
      "image/png": "[encoded data removed]",
      "text/plain": [
       "<Figure size 432x288 with 1 Axes>"
      ]
     },
     "metadata": {
      "needs_background": "light"
     },
     "output_type": "display_data"
    }
   ],
   "source": [
    "# Detecting the outliers using boxplot\n",
    "df['loan_percent_income'].plot(kind = 'box')"
   ]
  },
  {
   "cell_type": "markdown",
   "id": "7d611b26",
   "metadata": {},
   "source": [
    "#### **Observation:**\n",
    "-- By above plot, the Persons loan_percent_income feature is having more outliers."
   ]
  },
  {
   "cell_type": "code",
   "execution_count": 63,
   "id": "186140b4",
   "metadata": {},
   "outputs": [
    {
     "data": {
      "text/plain": [
       "<AxesSubplot:ylabel='Density'>"
      ]
     },
     "execution_count": 63,
     "metadata": {},
     "output_type": "execute_result"
    },
    {
     "data": {
      "image/png": "[encoded data removed]",
      "text/plain": [
       "<Figure size 432x288 with 1 Axes>"
      ]
     },
     "metadata": {
      "needs_background": "light"
     },
     "output_type": "display_data"
    }
   ],
   "source": [
    "# Distribution Of tenure Feature using kde plot\n",
    "df['loan_percent_income'].plot(kind = 'kde')"
   ]
  },
  {
   "cell_type": "markdown",
   "id": "0501702e",
   "metadata": {},
   "source": [
    "#### **Observation:**\n",
    "-- By above plot, loan_percent_income feature is seems like follows normal distribution."
   ]
  },
  {
   "cell_type": "code",
   "execution_count": 64,
   "id": "a57131c6",
   "metadata": {},
   "outputs": [
    {
     "data": {
      "image/png": "[encoded data removed]",
      "text/plain": [
       "<Figure size 432x288 with 1 Axes>"
      ]
     },
     "metadata": {
      "needs_background": "light"
     },
     "output_type": "display_data"
    }
   ],
   "source": [
    "# checking for normal distribution using QQ-plot\n",
    "stats.probplot(df['loan_percent_income'],dist='norm',plot=plt)\n",
    "\n",
    "plt.grid()"
   ]
  },
  {
   "cell_type": "markdown",
   "id": "310b8b25",
   "metadata": {},
   "source": [
    "#### **Observation:**\n",
    "-- By above plot,it is clear that Persons loan_percent_income feature doesn't follow Normal Distribution."
   ]
  },
  {
   "cell_type": "markdown",
   "id": "a9f91018",
   "metadata": {},
   "source": [
    "## Analysing cb_person_default_on_file Feature - Categorical"
   ]
  },
  {
   "cell_type": "code",
   "execution_count": 66,
   "id": "1befd1b4",
   "metadata": {},
   "outputs": [
    {
     "data": {
      "text/plain": [
       "N    26836\n",
       "Y     5745\n",
       "Name: cb_person_default_on_file, dtype: int64"
      ]
     },
     "execution_count": 66,
     "metadata": {},
     "output_type": "execute_result"
    }
   ],
   "source": [
    "# getting value_counts()\n",
    "df['cb_person_default_on_file'].value_counts()"
   ]
  },
  {
   "cell_type": "code",
   "execution_count": 67,
   "id": "28c90c4f",
   "metadata": {},
   "outputs": [
    {
     "data": {
      "text/plain": [
       "N    0.82367\n",
       "Y    0.17633\n",
       "Name: cb_person_default_on_file, dtype: float64"
      ]
     },
     "execution_count": 67,
     "metadata": {},
     "output_type": "execute_result"
    }
   ],
   "source": [
    "# getting value_counts() by normalization\n",
    "df['cb_person_default_on_file'].value_counts(normalize = True)"
   ]
  },
  {
   "cell_type": "code",
   "execution_count": 68,
   "id": "0b4993fb",
   "metadata": {},
   "outputs": [
    {
     "data": {
      "text/plain": [
       "<AxesSubplot:>"
      ]
     },
     "execution_count": 68,
     "metadata": {},
     "output_type": "execute_result"
    },
    {
     "data": {
      "image/png": "[encoded data removed]",
      "text/plain": [
       "<Figure size 432x288 with 1 Axes>"
      ]
     },
     "metadata": {
      "needs_background": "light"
     },
     "output_type": "display_data"
    }
   ],
   "source": [
    "# Plotting barplot for phoneservice feature\n",
    "df['cb_person_default_on_file'].value_counts().plot(kind = 'bar')"
   ]
  },
  {
   "cell_type": "markdown",
   "id": "8e9741ad",
   "metadata": {},
   "source": [
    "#### **Observation:**\n",
    "-- By above plot, it is clear that most of the people doesn't have Historical default.Only few are having historical default."
   ]
  },
  {
   "cell_type": "markdown",
   "id": "951e3f72",
   "metadata": {},
   "source": [
    "## Analysing cb_person_cred_hist_length Feature - Numerical"
   ]
  },
  {
   "cell_type": "code",
   "execution_count": 69,
   "id": "e8fc40a3",
   "metadata": {},
   "outputs": [
    {
     "name": "stdout",
     "output_type": "stream",
     "text": [
      "cb_person_cred_hist_length_min: 2\n",
      "cb_person_cred_hist_length_max: 30\n",
      "cb_person_cred_hist_length_mean: 5.804211043246064\n",
      "cb_person_cred_hist_length_median: 4.0\n",
      "cb_person_cred_hist_length_std: 4.0550011647128406\n"
     ]
    }
   ],
   "source": [
    "# Non-visualization statistical analysis\n",
    "print('cb_person_cred_hist_length_min:',df['cb_person_cred_hist_length'].min())\n",
    "print('cb_person_cred_hist_length_max:',df['cb_person_cred_hist_length'].max())\n",
    "print('cb_person_cred_hist_length_mean:',df['cb_person_cred_hist_length'].mean())\n",
    "print('cb_person_cred_hist_length_median:',df['cb_person_cred_hist_length'].median())\n",
    "print('cb_person_cred_hist_length_std:',df['cb_person_cred_hist_length'].std())"
   ]
  },
  {
   "cell_type": "code",
   "execution_count": 70,
   "id": "15531795",
   "metadata": {},
   "outputs": [
    {
     "data": {
      "text/plain": [
       "<AxesSubplot:>"
      ]
     },
     "execution_count": 70,
     "metadata": {},
     "output_type": "execute_result"
    },
    {
     "data": {
      "image/png": "[encoded data removed]",
      "text/plain": [
       "<Figure size 432x288 with 1 Axes>"
      ]
     },
     "metadata": {
      "needs_background": "light"
     },
     "output_type": "display_data"
    }
   ],
   "source": [
    "# Detecting outliers using boxplot\n",
    "df['cb_person_cred_hist_length'].plot(kind = 'box')"
   ]
  },
  {
   "cell_type": "markdown",
   "id": "cb8ac413",
   "metadata": {},
   "source": [
    "#### **Observation:**\n",
    "-- most of the people are having Credit history length in between 0 - 15 and also there are some people having more Credit history length."
   ]
  },
  {
   "cell_type": "code",
   "execution_count": 71,
   "id": "dae436aa",
   "metadata": {},
   "outputs": [
    {
     "data": {
      "text/plain": [
       "<AxesSubplot:ylabel='Density'>"
      ]
     },
     "execution_count": 71,
     "metadata": {},
     "output_type": "execute_result"
    },
    {
     "data": {
      "image/png": "[encoded data removed]",
      "text/plain": [
       "<Figure size 432x288 with 1 Axes>"
      ]
     },
     "metadata": {
      "needs_background": "light"
     },
     "output_type": "display_data"
    }
   ],
   "source": [
    "# Distribution Of children Feature using kde plot\n",
    "df['cb_person_cred_hist_length'].plot(kind = 'kde')"
   ]
  },
  {
   "cell_type": "markdown",
   "id": "2323e5d3",
   "metadata": {},
   "source": [
    "#### **Observation:**\n",
    "-- By above plot,it seems like the feature follow Normal Distribution with some disperencies."
   ]
  },
  {
   "cell_type": "code",
   "execution_count": 72,
   "id": "afa1cb36",
   "metadata": {},
   "outputs": [
    {
     "data": {
      "image/png": "[encoded data removed]",
      "text/plain": [
       "<Figure size 432x288 with 1 Axes>"
      ]
     },
     "metadata": {
      "needs_background": "light"
     },
     "output_type": "display_data"
    }
   ],
   "source": [
    "# Checking normal distribution for df using QQ plot\n",
    "stats.probplot(df['cb_person_cred_hist_length'],dist='norm',plot=plt)\n",
    "\n",
    "plt.grid()"
   ]
  },
  {
   "cell_type": "markdown",
   "id": "9c02ba03",
   "metadata": {},
   "source": [
    "#### **Observation:**\n",
    "-- By above plot it is clear that cb_person_cred_hist_length feature doesn't follow Normal Distribution."
   ]
  },
  {
   "cell_type": "markdown",
   "id": "24cac71c",
   "metadata": {},
   "source": [
    "# Bivariate Analysis"
   ]
  },
  {
   "cell_type": "code",
   "execution_count": 73,
   "id": "0c52630c",
   "metadata": {},
   "outputs": [
    {
     "name": "stdout",
     "output_type": "stream",
     "text": [
      "<class 'pandas.core.frame.DataFrame'>\n",
      "RangeIndex: 32581 entries, 0 to 32580\n",
      "Data columns (total 12 columns):\n",
      " #   Column                      Non-Null Count  Dtype  \n",
      "---  ------                      --------------  -----  \n",
      " 0   person_age                  32581 non-null  int64  \n",
      " 1   person_income               32581 non-null  int64  \n",
      " 2   person_home_ownership       32581 non-null  object \n",
      " 3   person_emp_length           32581 non-null  float64\n",
      " 4   loan_intent                 32581 non-null  object \n",
      " 5   loan_grade                  32581 non-null  object \n",
      " 6   loan_amnt                   32581 non-null  int64  \n",
      " 7   loan_int_rate               32581 non-null  float64\n",
      " 8   loan_status                 32581 non-null  int64  \n",
      " 9   loan_percent_income         32581 non-null  float64\n",
      " 10  cb_person_default_on_file   32581 non-null  object \n",
      " 11  cb_person_cred_hist_length  32581 non-null  int64  \n",
      "dtypes: float64(3), int64(5), object(4)\n",
      "memory usage: 3.0+ MB\n"
     ]
    }
   ],
   "source": [
    "df.info()"
   ]
  },
  {
   "cell_type": "markdown",
   "id": "1b9ed1a7",
   "metadata": {},
   "source": [
    "## Relationship between Target Variable(Loan Status) and person_age"
   ]
  },
  {
   "cell_type": "code",
   "execution_count": 74,
   "id": "0819e746",
   "metadata": {},
   "outputs": [
    {
     "data": {
      "text/plain": [
       "<matplotlib.collections.PathCollection at 0x266452d41f0>"
      ]
     },
     "execution_count": 74,
     "metadata": {},
     "output_type": "execute_result"
    },
    {
     "data": {
      "image/png": "[encoded data removed]",
      "text/plain": [
       "<Figure size 432x288 with 1 Axes>"
      ]
     },
     "metadata": {
      "needs_background": "light"
     },
     "output_type": "display_data"
    }
   ],
   "source": [
    " plt.scatter(x = df['loan_status'],y = df['person_age'])"
   ]
  },
  {
   "cell_type": "markdown",
   "id": "975c01e3",
   "metadata": {},
   "source": [
    "#### **Observation:**\n",
    "-- person_age Doesn't effect Loan_Status. Because many people who are having less age also loan can be approved.and having same age also can be rejected."
   ]
  },
  {
   "cell_type": "markdown",
   "id": "0183de7c",
   "metadata": {},
   "source": [
    "## Relationship between Target Variable(Loan Status) and person_income"
   ]
  },
  {
   "cell_type": "code",
   "execution_count": 75,
   "id": "a8c2ec76",
   "metadata": {},
   "outputs": [
    {
     "data": {
      "text/plain": [
       "<matplotlib.collections.PathCollection at 0x2664403b0a0>"
      ]
     },
     "execution_count": 75,
     "metadata": {},
     "output_type": "execute_result"
    },
    {
     "data": {
      "image/png": "[encoded data removed]",
      "text/plain": [
       "<Figure size 432x288 with 1 Axes>"
      ]
     },
     "metadata": {
      "needs_background": "light"
     },
     "output_type": "display_data"
    }
   ],
   "source": [
    " plt.scatter(x = df['loan_status'],y = df['person_income'])"
   ]
  },
  {
   "cell_type": "markdown",
   "id": "be92f0f8",
   "metadata": {},
   "source": [
    "#### **Observation:**\n",
    "-- Person's income doesn't effect loan_status.So,there is no relationship between person_income and loan_status."
   ]
  },
  {
   "cell_type": "markdown",
   "id": "1b8bb8b1",
   "metadata": {},
   "source": [
    "## Relationship between Target Variable(Loan Status) and person_home_ownership"
   ]
  },
  {
   "cell_type": "code",
   "execution_count": 76,
   "id": "98a933bb",
   "metadata": {},
   "outputs": [
    {
     "data": {
      "text/plain": [
       "<AxesSubplot:title={'center':'loan_status'}, xlabel='person_home_ownership'>"
      ]
     },
     "execution_count": 76,
     "metadata": {},
     "output_type": "execute_result"
    },
    {
     "data": {
      "image/png": "[encoded data removed]",
      "text/plain": [
       "<Figure size 432x288 with 1 Axes>"
      ]
     },
     "metadata": {
      "needs_background": "light"
     },
     "output_type": "display_data"
    }
   ],
   "source": [
    "df.boxplot(by='person_home_ownership', column='loan_status')"
   ]
  },
  {
   "cell_type": "markdown",
   "id": "120d8381",
   "metadata": {},
   "source": [
    "####  **Observation:**\n",
    "-- People under rent and others may have impact on loan_status.There Can be positive relationship between person_home_ownership and loan_status. "
   ]
  },
  {
   "cell_type": "markdown",
   "id": "8c4e07c8",
   "metadata": {},
   "source": [
    "## Relationship between Target Variable(Loan Status) and person_emp_length"
   ]
  },
  {
   "cell_type": "code",
   "execution_count": 77,
   "id": "ebbbbd2f",
   "metadata": {},
   "outputs": [
    {
     "data": {
      "text/plain": [
       "<matplotlib.collections.PathCollection at 0x26643affe80>"
      ]
     },
     "execution_count": 77,
     "metadata": {},
     "output_type": "execute_result"
    },
    {
     "data": {
      "image/png": "[encoded data removed]",
      "text/plain": [
       "<Figure size 432x288 with 1 Axes>"
      ]
     },
     "metadata": {
      "needs_background": "light"
     },
     "output_type": "display_data"
    }
   ],
   "source": [
    " plt.scatter(x = df['loan_status'],y = df['person_emp_length'])"
   ]
  },
  {
   "cell_type": "markdown",
   "id": "cd0d8270",
   "metadata": {},
   "source": [
    "#### **Observation:**\n",
    "-- There is no relationship between person_emp_length and Loan_status."
   ]
  },
  {
   "cell_type": "markdown",
   "id": "25ea75a6",
   "metadata": {},
   "source": [
    "## Relationship between Target Variable(Loan Status) and loan_intent"
   ]
  },
  {
   "cell_type": "code",
   "execution_count": 78,
   "id": "f3daa3b9",
   "metadata": {},
   "outputs": [
    {
     "data": {
      "text/plain": [
       "<AxesSubplot:title={'center':'loan_status'}, xlabel='loan_intent'>"
      ]
     },
     "execution_count": 78,
     "metadata": {},
     "output_type": "execute_result"
    },
    {
     "data": {
      "image/png": "[encoded data removed]",
      "text/plain": [
       "<Figure size 432x288 with 1 Axes>"
      ]
     },
     "metadata": {
      "needs_background": "light"
     },
     "output_type": "display_data"
    }
   ],
   "source": [
    "df.boxplot(by='loan_intent', column='loan_status')"
   ]
  },
  {
   "cell_type": "markdown",
   "id": "9b7b044f",
   "metadata": {},
   "source": [
    "#### **Observation:**\n",
    "-- By above plot, it seems like that only some from the feature having impact on  loan_status.So,there is a relationship between loan_intent and loan_status. "
   ]
  },
  {
   "cell_type": "markdown",
   "id": "9b4924f3",
   "metadata": {},
   "source": [
    "## Relationship between Target Variable(Loan Status) and loan_grade"
   ]
  },
  {
   "cell_type": "code",
   "execution_count": 79,
   "id": "b0558db4",
   "metadata": {},
   "outputs": [
    {
     "data": {
      "text/plain": [
       "<AxesSubplot:title={'center':'loan_status'}, xlabel='loan_grade'>"
      ]
     },
     "execution_count": 79,
     "metadata": {},
     "output_type": "execute_result"
    },
    {
     "data": {
      "image/png": "[encoded data removed]",
      "text/plain": [
       "<Figure size 432x288 with 1 Axes>"
      ]
     },
     "metadata": {
      "needs_background": "light"
     },
     "output_type": "display_data"
    }
   ],
   "source": [
    "df.boxplot(by='loan_grade', column='loan_status')"
   ]
  },
  {
   "cell_type": "markdown",
   "id": "d92c8afd",
   "metadata": {},
   "source": [
    "#### **Observation:**\n",
    "-- Loan_grade impacts on loan_status.So,there is a relationship between loan_grade and loan_status."
   ]
  },
  {
   "cell_type": "markdown",
   "id": "eaf8d630",
   "metadata": {},
   "source": [
    "## Relationship between Target Variable(Loan Status) and loan_amnt"
   ]
  },
  {
   "cell_type": "code",
   "execution_count": 80,
   "id": "3f64e26c",
   "metadata": {},
   "outputs": [
    {
     "data": {
      "text/plain": [
       "<matplotlib.collections.PathCollection at 0x266454fb7f0>"
      ]
     },
     "execution_count": 80,
     "metadata": {},
     "output_type": "execute_result"
    },
    {
     "data": {
      "image/png": "[encoded data removed]",
      "text/plain": [
       "<Figure size 432x288 with 1 Axes>"
      ]
     },
     "metadata": {
      "needs_background": "light"
     },
     "output_type": "display_data"
    }
   ],
   "source": [
    " plt.scatter(x = df['loan_status'],y = df['loan_amnt'])"
   ]
  },
  {
   "cell_type": "markdown",
   "id": "24adc610",
   "metadata": {},
   "source": [
    "#### **Observation:**\n",
    "-- There is no relationship between loan_amount and loan_status."
   ]
  },
  {
   "cell_type": "markdown",
   "id": "82ce58f5",
   "metadata": {},
   "source": [
    "## Relationship between Target Variable(Loan Status) and loan_int_rate"
   ]
  },
  {
   "cell_type": "code",
   "execution_count": 81,
   "id": "5da87cf3",
   "metadata": {},
   "outputs": [
    {
     "data": {
      "text/plain": [
       "<matplotlib.collections.PathCollection at 0x266455562b0>"
      ]
     },
     "execution_count": 81,
     "metadata": {},
     "output_type": "execute_result"
    },
    {
     "data": {
      "image/png": "[encoded data removed]",
      "text/plain": [
       "<Figure size 432x288 with 1 Axes>"
      ]
     },
     "metadata": {
      "needs_background": "light"
     },
     "output_type": "display_data"
    }
   ],
   "source": [
    " plt.scatter(x = df['loan_status'],y = df['loan_int_rate'])"
   ]
  },
  {
   "cell_type": "markdown",
   "id": "09c3524e",
   "metadata": {},
   "source": [
    "#### **Observation:**\n",
    "-- There is no relationship between loan_int_rate and loan_status."
   ]
  },
  {
   "cell_type": "markdown",
   "id": "45a8071b",
   "metadata": {},
   "source": [
    "## Relationship between Target Variable(Loan Status) and loan_percent_income"
   ]
  },
  {
   "cell_type": "code",
   "execution_count": 83,
   "id": "d4fd98b7",
   "metadata": {},
   "outputs": [
    {
     "data": {
      "text/plain": [
       "<matplotlib.collections.PathCollection at 0x266455a6fa0>"
      ]
     },
     "execution_count": 83,
     "metadata": {},
     "output_type": "execute_result"
    },
    {
     "data": {
      "image/png": "[encoded data removed]",
      "text/plain": [
       "<Figure size 432x288 with 1 Axes>"
      ]
     },
     "metadata": {
      "needs_background": "light"
     },
     "output_type": "display_data"
    }
   ],
   "source": [
    " plt.scatter(x = df['loan_status'],y = df['loan_percent_income'])"
   ]
  },
  {
   "cell_type": "markdown",
   "id": "ca06b1fb",
   "metadata": {},
   "source": [
    "#### **Observation:**\n",
    "-- There is no relationship between loan_percent_income and loan_status."
   ]
  },
  {
   "cell_type": "markdown",
   "id": "20efb1a0",
   "metadata": {},
   "source": [
    "## Relationship between Target Variable(Loan Status) and cb_person_default_on_file"
   ]
  },
  {
   "cell_type": "code",
   "execution_count": 84,
   "id": "8296fafc",
   "metadata": {},
   "outputs": [
    {
     "data": {
      "text/plain": [
       "<AxesSubplot:title={'center':'loan_status'}, xlabel='cb_person_default_on_file'>"
      ]
     },
     "execution_count": 84,
     "metadata": {},
     "output_type": "execute_result"
    },
    {
     "data": {
      "image/png": "[encoded data removed]",
      "text/plain": [
       "<Figure size 432x288 with 1 Axes>"
      ]
     },
     "metadata": {
      "needs_background": "light"
     },
     "output_type": "display_data"
    }
   ],
   "source": [
    "df.boxplot(by='cb_person_default_on_file', column='loan_status')"
   ]
  },
  {
   "cell_type": "markdown",
   "id": "4994dc3f",
   "metadata": {},
   "source": [
    "#### **Observation:**\n",
    "-- There is a relationhip between cb_person_default_on_file and loan_status."
   ]
  },
  {
   "cell_type": "markdown",
   "id": "fc7587d2",
   "metadata": {},
   "source": [
    "## Relationship between Target Variable(Loan Status) and cb_person_cred_hist_length"
   ]
  },
  {
   "cell_type": "code",
   "execution_count": 85,
   "id": "87f2ece6",
   "metadata": {},
   "outputs": [
    {
     "data": {
      "text/plain": [
       "<matplotlib.collections.PathCollection at 0x2664566a5e0>"
      ]
     },
     "execution_count": 85,
     "metadata": {},
     "output_type": "execute_result"
    },
    {
     "data": {
      "image/png": "[encoded data removed]",
      "text/plain": [
       "<Figure size 432x288 with 1 Axes>"
      ]
     },
     "metadata": {
      "needs_background": "light"
     },
     "output_type": "display_data"
    }
   ],
   "source": [
    "# After Cleaning the data\n",
    "plt.scatter(x = df['loan_status'],y = df['cb_person_cred_hist_length'])"
   ]
  },
  {
   "cell_type": "markdown",
   "id": "c5132418",
   "metadata": {},
   "source": [
    "#### **Observation:**\n",
    "-- There is no relationship between cb_person_cred_hist_length and loan_status."
   ]
  },
  {
   "cell_type": "markdown",
   "id": "6595bfeb",
   "metadata": {},
   "source": [
    "# Multivariate Analysis"
   ]
  },
  {
   "cell_type": "code",
   "execution_count": 86,
   "id": "4e27b351",
   "metadata": {},
   "outputs": [
    {
     "data": {
      "image/png": "[encoded data removed]",
      "text/plain": [
       "<Figure size 432x288 with 2 Axes>"
      ]
     },
     "metadata": {
      "needs_background": "light"
     },
     "output_type": "display_data"
    }
   ],
   "source": [
    "# correlation\n",
    "import seaborn as sns\n",
    "sns.heatmap(df.corr(),annot=True,cmap=\"Set3\",linecolor=\"black\",linewidth=4)\n",
    "plt.show();"
   ]
  },
  {
   "cell_type": "markdown",
   "id": "33676619",
   "metadata": {},
   "source": [
    "#### **Observation:**\n",
    "-- By using above plot,We can conclude that how strong relationship is between the Numerical Features.      \n",
    "-- From the Numerical Features there is a strong correlation between Loan_percent_income and loan_status."
   ]
  },
  {
   "cell_type": "markdown",
   "id": "b4770b48",
   "metadata": {},
   "source": [
    "## **Insights and Conclusions:**  "
   ]
  },
  {
   "cell_type": "markdown",
   "id": "7e82030f",
   "metadata": {},
   "source": [
    "`Loan Status Distribution:`\n",
    "-  The dataset contains information about defaulted and non-defaulted loans.    \n",
    "-  We need to examine the factors that contribute to loan defaults and provide recommendations to minimize the default rate.\n",
    "\n",
    "`Age:`\n",
    "-  Younger borrowers may have higher default rates.    \n",
    "-  The bank can consider setting age for loan approval to mitigate default risks.\n",
    "\n",
    "`Employment Length:`\n",
    "-  Those People with longer employment histories may be more reliable for Loan Approval.    \n",
    "-  The bank can consider setting employment length criteria for loan approval to mitigate default risks.   \n",
    "\n",
    "`Income and Loan Amount:`   \n",
    "- Analyzing the income and loan amount relationship can help us understand borrowers' financial capability.      \n",
    "- A higher loan amount relative to income may increase the likelihood of default.     \n",
    "- It is crucial to assess borrowers' ability to repay the loan by considering income-to-loan ratios and setting appropriate limits.\n",
    "\n",
    "`Interest Rate and Loan Grade:`\n",
    "- Loan grade and interest rate are important indicators of risk.     \n",
    "- Higher-grade loans with lower interest rates are more likely to be repaid.    \n",
    "- The bank should evaluate the creditworthiness of borrowers and assign appropriate loan grades to minimize default risks.  \n",
    "\n",
    "`Home Ownership and Loan Intent:`\n",
    "- We should explore the relationship between home ownership, loan intent, and loan status.        \n",
    "- Borrowers who own homes may have a more stable financial situation, potentially reducing default rates.    \n",
    "- The purpose of the loan (loan intent) should also be considered, as certain intents may carry higher risks of default.    \n",
    "\n",
    "`Credit History:`\n",
    "- Longer credit history is generally associated with lower default rates.     \n",
    "- The bank should consider the length of the borrower's credit history when assessing loan applications.   "
   ]
  },
  {
   "cell_type": "markdown",
   "id": "55a4be6b",
   "metadata": {},
   "source": [
    "## **Recommendations:**  "
   ]
  },
  {
   "cell_type": "markdown",
   "id": "66f09a56",
   "metadata": {},
   "source": [
    "To minimize the risk of loan defaults and improve the bank's loan portfolio performance, here are some recommendations:\n",
    "\n",
    "1) Set stricter criteria for loan approval, considering factors like age and employment length. This helps ensure more reliable borrowers.      \n",
    "2) Conduct a thorough evaluation of borrowers' income to make sure that the loan amounts granted are reasonable based on their income levels.      \n",
    "3) Carefully assess borrowers' creditworthiness and determine appropriate loan grades and interest rates. This helps reduce the chances of defaults.      \n",
    "4) Take into account whether borrowers own a home as an additional factor when evaluating loan applications. Homeowners generally demonstrate more financial stability.      \n",
    "5) Analyze the purpose of the loan (loan intent) to identify high-risk purposes. Adjust lending strategies accordingly to mitigate potential defaults.      \n",
    "6) Prioritize borrowers with longer credit histories since they tend to have lower default rates.     \n",
    "\n",
    "Implementing these recommendations will enable the bank to minimize the risk of loan defaults and enhance the overall performance of its loan portfolio. However, it is important to validate these findings with more extensive analysis on a larger and representative dataset to ensure the accuracy of the insights and recommendations.    "
   ]
  },
  {
   "cell_type": "code",
   "execution_count": null,
   "id": "2ccb4a8a",
   "metadata": {},
   "outputs": [],
   "source": []
  }
 ],
 "metadata": {
  "kernelspec": {
   "display_name": "Python 3 (ipykernel)",
   "language": "python",
   "name": "python3"
  },
  "language_info": {
   "codemirror_mode": {
    "name": "ipython",
    "version": 3
   },
   "file_extension": ".py",
   "mimetype": "text/x-python",
   "name": "python",
   "nbconvert_exporter": "python",
   "pygments_lexer": "ipython3",
   "version": "3.9.7"
  }
 },
 "nbformat": 4,
 "nbformat_minor": 5
}
